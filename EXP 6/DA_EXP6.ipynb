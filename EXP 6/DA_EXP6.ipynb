{
  "metadata": {
    "kernelspec": {
      "language": "python",
      "display_name": "Python 3",
      "name": "python3"
    },
    "language_info": {
      "pygments_lexer": "ipython3",
      "nbconvert_exporter": "python",
      "version": "3.6.4",
      "file_extension": ".py",
      "codemirror_mode": {
        "name": "ipython",
        "version": 3
      },
      "name": "python",
      "mimetype": "text/x-python"
    },
    "colab": {
      "provenance": []
    }
  },
  "nbformat_minor": 0,
  "nbformat": 4,
  "cells": [
    {
      "cell_type": "markdown",
      "source": [
        "DA EXPERIMENT 6\n",
        "\n",
        "Niranjan Badhe\n",
        "\n",
        "2019120004\n",
        "\n",
        "BE EXTC"
      ],
      "metadata": {
        "id": "kvdFC4_5UBC9"
      }
    },
    {
      "cell_type": "code",
      "source": [
        "import numpy as np # linear algebra\n",
        "import pandas as pd # data processing, CSV file I/O (e.g. pd.read_csv)\n",
        "import os\n",
        "for dirname, _, filenames in os.walk('/kaggle/input'):\n",
        "    for filename in filenames:\n",
        "        print(os.path.join(dirname, filename))"
      ],
      "metadata": {
        "_uuid": "8f2839f25d086af736a60e9eeb907d3b93b6e0e5",
        "_cell_guid": "b1076dfc-b9ad-4769-8c92-a6c4dae69d19",
        "execution": {
          "iopub.status.busy": "2022-05-13T21:28:26.036875Z",
          "iopub.execute_input": "2022-05-13T21:28:26.037573Z",
          "iopub.status.idle": "2022-05-13T21:28:26.07557Z",
          "shell.execute_reply.started": "2022-05-13T21:28:26.037458Z",
          "shell.execute_reply": "2022-05-13T21:28:26.074638Z"
        },
        "trusted": true,
        "id": "LWPU4RQR29DG"
      },
      "execution_count": 39,
      "outputs": []
    },
    {
      "cell_type": "code",
      "source": [
        "# first import library that we need \n",
        "import pandas as pd \n",
        "from sklearn.feature_extraction.text import CountVectorizer\n",
        "from sklearn.model_selection import train_test_split\n",
        "from sklearn.naive_bayes import MultinomialNB  # suitable for discreate feature and Gusian naive bayes for contious\n",
        "from sklearn.metrics import accuracy_score ,f1_score , precision_score , recall_score"
      ],
      "metadata": {
        "execution": {
          "iopub.status.busy": "2022-05-13T21:28:28.448646Z",
          "iopub.execute_input": "2022-05-13T21:28:28.448955Z",
          "iopub.status.idle": "2022-05-13T21:28:29.585369Z",
          "shell.execute_reply.started": "2022-05-13T21:28:28.448923Z",
          "shell.execute_reply": "2022-05-13T21:28:29.584292Z"
        },
        "trusted": true,
        "id": "QGdskenY29DP"
      },
      "execution_count": 40,
      "outputs": []
    },
    {
      "cell_type": "markdown",
      "source": [
        "Importing libraries"
      ],
      "metadata": {
        "id": "_aR2XeTRUW-6"
      }
    },
    {
      "cell_type": "code",
      "source": [
        "df = pd.read_csv('/content/spam.csv',encoding='ISO-8859-1')\n",
        "df = df.iloc[:,:2]\n",
        "df.rename(columns={'v1':'label', 'v2' : 'sms'},inplace=True)"
      ],
      "metadata": {
        "execution": {
          "iopub.status.busy": "2022-05-13T21:28:29.586773Z",
          "iopub.execute_input": "2022-05-13T21:28:29.586995Z",
          "iopub.status.idle": "2022-05-13T21:28:29.644122Z",
          "shell.execute_reply.started": "2022-05-13T21:28:29.586968Z",
          "shell.execute_reply": "2022-05-13T21:28:29.643267Z"
        },
        "trusted": true,
        "id": "eR1RcC_a29DQ"
      },
      "execution_count": 41,
      "outputs": []
    },
    {
      "cell_type": "code",
      "source": [
        "# first convert label col to numeric \n",
        "df['label'] = df.label.map({'ham':0 , 'spam':1})\n",
        "df.head()"
      ],
      "metadata": {
        "execution": {
          "iopub.status.busy": "2022-05-13T21:28:29.699437Z",
          "iopub.execute_input": "2022-05-13T21:28:29.699726Z",
          "iopub.status.idle": "2022-05-13T21:28:29.726278Z",
          "shell.execute_reply.started": "2022-05-13T21:28:29.699697Z",
          "shell.execute_reply": "2022-05-13T21:28:29.725274Z"
        },
        "trusted": true,
        "id": "Bf-4kOln29DS",
        "colab": {
          "base_uri": "https://localhost:8080/",
          "height": 206
        },
        "outputId": "be716e32-4a59-408c-d993-d864a78e8de3"
      },
      "execution_count": 42,
      "outputs": [
        {
          "output_type": "execute_result",
          "data": {
            "text/plain": [
              "   label                                                sms\n",
              "0      0  Go until jurong point, crazy.. Available only ...\n",
              "1      0                      Ok lar... Joking wif u oni...\n",
              "2      1  Free entry in 2 a wkly comp to win FA Cup fina...\n",
              "3      0  U dun say so early hor... U c already then say...\n",
              "4      0  Nah I don't think he goes to usf, he lives aro..."
            ],
            "text/html": [
              "\n",
              "  <div id=\"df-8cdb1617-dec2-4ca4-a5f6-592577200b6b\">\n",
              "    <div class=\"colab-df-container\">\n",
              "      <div>\n",
              "<style scoped>\n",
              "    .dataframe tbody tr th:only-of-type {\n",
              "        vertical-align: middle;\n",
              "    }\n",
              "\n",
              "    .dataframe tbody tr th {\n",
              "        vertical-align: top;\n",
              "    }\n",
              "\n",
              "    .dataframe thead th {\n",
              "        text-align: right;\n",
              "    }\n",
              "</style>\n",
              "<table border=\"1\" class=\"dataframe\">\n",
              "  <thead>\n",
              "    <tr style=\"text-align: right;\">\n",
              "      <th></th>\n",
              "      <th>label</th>\n",
              "      <th>sms</th>\n",
              "    </tr>\n",
              "  </thead>\n",
              "  <tbody>\n",
              "    <tr>\n",
              "      <th>0</th>\n",
              "      <td>0</td>\n",
              "      <td>Go until jurong point, crazy.. Available only ...</td>\n",
              "    </tr>\n",
              "    <tr>\n",
              "      <th>1</th>\n",
              "      <td>0</td>\n",
              "      <td>Ok lar... Joking wif u oni...</td>\n",
              "    </tr>\n",
              "    <tr>\n",
              "      <th>2</th>\n",
              "      <td>1</td>\n",
              "      <td>Free entry in 2 a wkly comp to win FA Cup fina...</td>\n",
              "    </tr>\n",
              "    <tr>\n",
              "      <th>3</th>\n",
              "      <td>0</td>\n",
              "      <td>U dun say so early hor... U c already then say...</td>\n",
              "    </tr>\n",
              "    <tr>\n",
              "      <th>4</th>\n",
              "      <td>0</td>\n",
              "      <td>Nah I don't think he goes to usf, he lives aro...</td>\n",
              "    </tr>\n",
              "  </tbody>\n",
              "</table>\n",
              "</div>\n",
              "      <button class=\"colab-df-convert\" onclick=\"convertToInteractive('df-8cdb1617-dec2-4ca4-a5f6-592577200b6b')\"\n",
              "              title=\"Convert this dataframe to an interactive table.\"\n",
              "              style=\"display:none;\">\n",
              "        \n",
              "  <svg xmlns=\"http://www.w3.org/2000/svg\" height=\"24px\"viewBox=\"0 0 24 24\"\n",
              "       width=\"24px\">\n",
              "    <path d=\"M0 0h24v24H0V0z\" fill=\"none\"/>\n",
              "    <path d=\"M18.56 5.44l.94 2.06.94-2.06 2.06-.94-2.06-.94-.94-2.06-.94 2.06-2.06.94zm-11 1L8.5 8.5l.94-2.06 2.06-.94-2.06-.94L8.5 2.5l-.94 2.06-2.06.94zm10 10l.94 2.06.94-2.06 2.06-.94-2.06-.94-.94-2.06-.94 2.06-2.06.94z\"/><path d=\"M17.41 7.96l-1.37-1.37c-.4-.4-.92-.59-1.43-.59-.52 0-1.04.2-1.43.59L10.3 9.45l-7.72 7.72c-.78.78-.78 2.05 0 2.83L4 21.41c.39.39.9.59 1.41.59.51 0 1.02-.2 1.41-.59l7.78-7.78 2.81-2.81c.8-.78.8-2.07 0-2.86zM5.41 20L4 18.59l7.72-7.72 1.47 1.35L5.41 20z\"/>\n",
              "  </svg>\n",
              "      </button>\n",
              "      \n",
              "  <style>\n",
              "    .colab-df-container {\n",
              "      display:flex;\n",
              "      flex-wrap:wrap;\n",
              "      gap: 12px;\n",
              "    }\n",
              "\n",
              "    .colab-df-convert {\n",
              "      background-color: #E8F0FE;\n",
              "      border: none;\n",
              "      border-radius: 50%;\n",
              "      cursor: pointer;\n",
              "      display: none;\n",
              "      fill: #1967D2;\n",
              "      height: 32px;\n",
              "      padding: 0 0 0 0;\n",
              "      width: 32px;\n",
              "    }\n",
              "\n",
              "    .colab-df-convert:hover {\n",
              "      background-color: #E2EBFA;\n",
              "      box-shadow: 0px 1px 2px rgba(60, 64, 67, 0.3), 0px 1px 3px 1px rgba(60, 64, 67, 0.15);\n",
              "      fill: #174EA6;\n",
              "    }\n",
              "\n",
              "    [theme=dark] .colab-df-convert {\n",
              "      background-color: #3B4455;\n",
              "      fill: #D2E3FC;\n",
              "    }\n",
              "\n",
              "    [theme=dark] .colab-df-convert:hover {\n",
              "      background-color: #434B5C;\n",
              "      box-shadow: 0px 1px 3px 1px rgba(0, 0, 0, 0.15);\n",
              "      filter: drop-shadow(0px 1px 2px rgba(0, 0, 0, 0.3));\n",
              "      fill: #FFFFFF;\n",
              "    }\n",
              "  </style>\n",
              "\n",
              "      <script>\n",
              "        const buttonEl =\n",
              "          document.querySelector('#df-8cdb1617-dec2-4ca4-a5f6-592577200b6b button.colab-df-convert');\n",
              "        buttonEl.style.display =\n",
              "          google.colab.kernel.accessAllowed ? 'block' : 'none';\n",
              "\n",
              "        async function convertToInteractive(key) {\n",
              "          const element = document.querySelector('#df-8cdb1617-dec2-4ca4-a5f6-592577200b6b');\n",
              "          const dataTable =\n",
              "            await google.colab.kernel.invokeFunction('convertToInteractive',\n",
              "                                                     [key], {});\n",
              "          if (!dataTable) return;\n",
              "\n",
              "          const docLinkHtml = 'Like what you see? Visit the ' +\n",
              "            '<a target=\"_blank\" href=https://colab.research.google.com/notebooks/data_table.ipynb>data table notebook</a>'\n",
              "            + ' to learn more about interactive tables.';\n",
              "          element.innerHTML = '';\n",
              "          dataTable['output_type'] = 'display_data';\n",
              "          await google.colab.output.renderOutput(dataTable, element);\n",
              "          const docLink = document.createElement('div');\n",
              "          docLink.innerHTML = docLinkHtml;\n",
              "          element.appendChild(docLink);\n",
              "        }\n",
              "      </script>\n",
              "    </div>\n",
              "  </div>\n",
              "  "
            ]
          },
          "metadata": {},
          "execution_count": 42
        }
      ]
    },
    {
      "cell_type": "markdown",
      "source": [
        "Reading and displaying the data from the dataset\n"
      ],
      "metadata": {
        "id": "yFMIYkqGUncq"
      }
    },
    {
      "cell_type": "code",
      "source": [
        "# split the data \n",
        "X_train, X_test, y_train, y_test = train_test_split(df['sms'], df['label'], test_size=0.33, random_state=42)\n",
        "print('Size of training data{}',format(X_train.shape[0]))\n",
        "print('Size of Testing data{}',format(X_test.shape[0]))"
      ],
      "metadata": {
        "execution": {
          "iopub.status.busy": "2022-05-13T21:28:29.895761Z",
          "iopub.execute_input": "2022-05-13T21:28:29.896051Z",
          "iopub.status.idle": "2022-05-13T21:28:29.906471Z",
          "shell.execute_reply.started": "2022-05-13T21:28:29.896023Z",
          "shell.execute_reply": "2022-05-13T21:28:29.905601Z"
        },
        "trusted": true,
        "id": "_fXKDs3l29DT",
        "colab": {
          "base_uri": "https://localhost:8080/"
        },
        "outputId": "119aaae9-c154-4897-bf4d-292c0ae331c4"
      },
      "execution_count": 43,
      "outputs": [
        {
          "output_type": "stream",
          "name": "stdout",
          "text": [
            "Size of training data{} 3733\n",
            "Size of Testing data{} 1839\n"
          ]
        }
      ]
    },
    {
      "cell_type": "markdown",
      "source": [
        "Splitting the data into testing and training sets."
      ],
      "metadata": {
        "id": "YWor9KqsUsxC"
      }
    },
    {
      "cell_type": "code",
      "source": [
        "# Convert Sms To BOW Count verctor\n",
        "count_vector = CountVectorizer()\n",
        "train_data = count_vector.fit_transform(X_train)\n",
        "testing_data = count_vector.transform(X_test)"
      ],
      "metadata": {
        "execution": {
          "iopub.status.busy": "2022-05-13T21:28:30.116917Z",
          "iopub.execute_input": "2022-05-13T21:28:30.117604Z",
          "iopub.status.idle": "2022-05-13T21:28:30.262798Z",
          "shell.execute_reply.started": "2022-05-13T21:28:30.117562Z",
          "shell.execute_reply": "2022-05-13T21:28:30.261877Z"
        },
        "trusted": true,
        "id": "f1ajdEtm29DU"
      },
      "execution_count": 44,
      "outputs": []
    },
    {
      "cell_type": "code",
      "source": [
        "# BOW(Bag Of Word) Look Like This \n",
        "# convert text to numbers for ML \n",
        "count_vector = CountVectorizer()\n",
        "col_name = count_vector.fit(df['sms']).get_feature_names()\n",
        "data = count_vector.transform(list(df['sms'])).toarray()\n",
        "BOW = pd.DataFrame(data, columns= col_name)\n",
        "BOW.head()"
      ],
      "metadata": {
        "execution": {
          "iopub.status.busy": "2022-05-13T21:28:31.367994Z",
          "iopub.execute_input": "2022-05-13T21:28:31.368808Z",
          "iopub.status.idle": "2022-05-13T21:28:31.75Z",
          "shell.execute_reply.started": "2022-05-13T21:28:31.368758Z",
          "shell.execute_reply": "2022-05-13T21:28:31.749325Z"
        },
        "trusted": true,
        "id": "i52x59JH29DV",
        "colab": {
          "base_uri": "https://localhost:8080/",
          "height": 334
        },
        "outputId": "53d87a46-0076-4b21-a35c-a35424be13f3"
      },
      "execution_count": 45,
      "outputs": [
        {
          "output_type": "stream",
          "name": "stderr",
          "text": [
            "/usr/local/lib/python3.7/dist-packages/sklearn/utils/deprecation.py:87: FutureWarning: Function get_feature_names is deprecated; get_feature_names is deprecated in 1.0 and will be removed in 1.2. Please use get_feature_names_out instead.\n",
            "  warnings.warn(msg, category=FutureWarning)\n"
          ]
        },
        {
          "output_type": "execute_result",
          "data": {
            "text/plain": [
              "   00  000  000pes  008704050406  0089  0121  01223585236  01223585334  \\\n",
              "0   0    0       0             0     0     0            0            0   \n",
              "1   0    0       0             0     0     0            0            0   \n",
              "2   0    0       0             0     0     0            0            0   \n",
              "3   0    0       0             0     0     0            0            0   \n",
              "4   0    0       0             0     0     0            0            0   \n",
              "\n",
              "   0125698789  02  ...  ó_  û_  û_thanks  ûªm  ûªt  ûªve  ûï  ûïharry  ûò  \\\n",
              "0           0   0  ...   0   0         0    0    0     0   0        0   0   \n",
              "1           0   0  ...   0   0         0    0    0     0   0        0   0   \n",
              "2           0   0  ...   0   0         0    0    0     0   0        0   0   \n",
              "3           0   0  ...   0   0         0    0    0     0   0        0   0   \n",
              "4           0   0  ...   0   0         0    0    0     0   0        0   0   \n",
              "\n",
              "   ûówell  \n",
              "0       0  \n",
              "1       0  \n",
              "2       0  \n",
              "3       0  \n",
              "4       0  \n",
              "\n",
              "[5 rows x 8672 columns]"
            ],
            "text/html": [
              "\n",
              "  <div id=\"df-9f86c719-2e5d-4b7f-86de-2e8b81f77f74\">\n",
              "    <div class=\"colab-df-container\">\n",
              "      <div>\n",
              "<style scoped>\n",
              "    .dataframe tbody tr th:only-of-type {\n",
              "        vertical-align: middle;\n",
              "    }\n",
              "\n",
              "    .dataframe tbody tr th {\n",
              "        vertical-align: top;\n",
              "    }\n",
              "\n",
              "    .dataframe thead th {\n",
              "        text-align: right;\n",
              "    }\n",
              "</style>\n",
              "<table border=\"1\" class=\"dataframe\">\n",
              "  <thead>\n",
              "    <tr style=\"text-align: right;\">\n",
              "      <th></th>\n",
              "      <th>00</th>\n",
              "      <th>000</th>\n",
              "      <th>000pes</th>\n",
              "      <th>008704050406</th>\n",
              "      <th>0089</th>\n",
              "      <th>0121</th>\n",
              "      <th>01223585236</th>\n",
              "      <th>01223585334</th>\n",
              "      <th>0125698789</th>\n",
              "      <th>02</th>\n",
              "      <th>...</th>\n",
              "      <th>ó_</th>\n",
              "      <th>û_</th>\n",
              "      <th>û_thanks</th>\n",
              "      <th>ûªm</th>\n",
              "      <th>ûªt</th>\n",
              "      <th>ûªve</th>\n",
              "      <th>ûï</th>\n",
              "      <th>ûïharry</th>\n",
              "      <th>ûò</th>\n",
              "      <th>ûówell</th>\n",
              "    </tr>\n",
              "  </thead>\n",
              "  <tbody>\n",
              "    <tr>\n",
              "      <th>0</th>\n",
              "      <td>0</td>\n",
              "      <td>0</td>\n",
              "      <td>0</td>\n",
              "      <td>0</td>\n",
              "      <td>0</td>\n",
              "      <td>0</td>\n",
              "      <td>0</td>\n",
              "      <td>0</td>\n",
              "      <td>0</td>\n",
              "      <td>0</td>\n",
              "      <td>...</td>\n",
              "      <td>0</td>\n",
              "      <td>0</td>\n",
              "      <td>0</td>\n",
              "      <td>0</td>\n",
              "      <td>0</td>\n",
              "      <td>0</td>\n",
              "      <td>0</td>\n",
              "      <td>0</td>\n",
              "      <td>0</td>\n",
              "      <td>0</td>\n",
              "    </tr>\n",
              "    <tr>\n",
              "      <th>1</th>\n",
              "      <td>0</td>\n",
              "      <td>0</td>\n",
              "      <td>0</td>\n",
              "      <td>0</td>\n",
              "      <td>0</td>\n",
              "      <td>0</td>\n",
              "      <td>0</td>\n",
              "      <td>0</td>\n",
              "      <td>0</td>\n",
              "      <td>0</td>\n",
              "      <td>...</td>\n",
              "      <td>0</td>\n",
              "      <td>0</td>\n",
              "      <td>0</td>\n",
              "      <td>0</td>\n",
              "      <td>0</td>\n",
              "      <td>0</td>\n",
              "      <td>0</td>\n",
              "      <td>0</td>\n",
              "      <td>0</td>\n",
              "      <td>0</td>\n",
              "    </tr>\n",
              "    <tr>\n",
              "      <th>2</th>\n",
              "      <td>0</td>\n",
              "      <td>0</td>\n",
              "      <td>0</td>\n",
              "      <td>0</td>\n",
              "      <td>0</td>\n",
              "      <td>0</td>\n",
              "      <td>0</td>\n",
              "      <td>0</td>\n",
              "      <td>0</td>\n",
              "      <td>0</td>\n",
              "      <td>...</td>\n",
              "      <td>0</td>\n",
              "      <td>0</td>\n",
              "      <td>0</td>\n",
              "      <td>0</td>\n",
              "      <td>0</td>\n",
              "      <td>0</td>\n",
              "      <td>0</td>\n",
              "      <td>0</td>\n",
              "      <td>0</td>\n",
              "      <td>0</td>\n",
              "    </tr>\n",
              "    <tr>\n",
              "      <th>3</th>\n",
              "      <td>0</td>\n",
              "      <td>0</td>\n",
              "      <td>0</td>\n",
              "      <td>0</td>\n",
              "      <td>0</td>\n",
              "      <td>0</td>\n",
              "      <td>0</td>\n",
              "      <td>0</td>\n",
              "      <td>0</td>\n",
              "      <td>0</td>\n",
              "      <td>...</td>\n",
              "      <td>0</td>\n",
              "      <td>0</td>\n",
              "      <td>0</td>\n",
              "      <td>0</td>\n",
              "      <td>0</td>\n",
              "      <td>0</td>\n",
              "      <td>0</td>\n",
              "      <td>0</td>\n",
              "      <td>0</td>\n",
              "      <td>0</td>\n",
              "    </tr>\n",
              "    <tr>\n",
              "      <th>4</th>\n",
              "      <td>0</td>\n",
              "      <td>0</td>\n",
              "      <td>0</td>\n",
              "      <td>0</td>\n",
              "      <td>0</td>\n",
              "      <td>0</td>\n",
              "      <td>0</td>\n",
              "      <td>0</td>\n",
              "      <td>0</td>\n",
              "      <td>0</td>\n",
              "      <td>...</td>\n",
              "      <td>0</td>\n",
              "      <td>0</td>\n",
              "      <td>0</td>\n",
              "      <td>0</td>\n",
              "      <td>0</td>\n",
              "      <td>0</td>\n",
              "      <td>0</td>\n",
              "      <td>0</td>\n",
              "      <td>0</td>\n",
              "      <td>0</td>\n",
              "    </tr>\n",
              "  </tbody>\n",
              "</table>\n",
              "<p>5 rows × 8672 columns</p>\n",
              "</div>\n",
              "      <button class=\"colab-df-convert\" onclick=\"convertToInteractive('df-9f86c719-2e5d-4b7f-86de-2e8b81f77f74')\"\n",
              "              title=\"Convert this dataframe to an interactive table.\"\n",
              "              style=\"display:none;\">\n",
              "        \n",
              "  <svg xmlns=\"http://www.w3.org/2000/svg\" height=\"24px\"viewBox=\"0 0 24 24\"\n",
              "       width=\"24px\">\n",
              "    <path d=\"M0 0h24v24H0V0z\" fill=\"none\"/>\n",
              "    <path d=\"M18.56 5.44l.94 2.06.94-2.06 2.06-.94-2.06-.94-.94-2.06-.94 2.06-2.06.94zm-11 1L8.5 8.5l.94-2.06 2.06-.94-2.06-.94L8.5 2.5l-.94 2.06-2.06.94zm10 10l.94 2.06.94-2.06 2.06-.94-2.06-.94-.94-2.06-.94 2.06-2.06.94z\"/><path d=\"M17.41 7.96l-1.37-1.37c-.4-.4-.92-.59-1.43-.59-.52 0-1.04.2-1.43.59L10.3 9.45l-7.72 7.72c-.78.78-.78 2.05 0 2.83L4 21.41c.39.39.9.59 1.41.59.51 0 1.02-.2 1.41-.59l7.78-7.78 2.81-2.81c.8-.78.8-2.07 0-2.86zM5.41 20L4 18.59l7.72-7.72 1.47 1.35L5.41 20z\"/>\n",
              "  </svg>\n",
              "      </button>\n",
              "      \n",
              "  <style>\n",
              "    .colab-df-container {\n",
              "      display:flex;\n",
              "      flex-wrap:wrap;\n",
              "      gap: 12px;\n",
              "    }\n",
              "\n",
              "    .colab-df-convert {\n",
              "      background-color: #E8F0FE;\n",
              "      border: none;\n",
              "      border-radius: 50%;\n",
              "      cursor: pointer;\n",
              "      display: none;\n",
              "      fill: #1967D2;\n",
              "      height: 32px;\n",
              "      padding: 0 0 0 0;\n",
              "      width: 32px;\n",
              "    }\n",
              "\n",
              "    .colab-df-convert:hover {\n",
              "      background-color: #E2EBFA;\n",
              "      box-shadow: 0px 1px 2px rgba(60, 64, 67, 0.3), 0px 1px 3px 1px rgba(60, 64, 67, 0.15);\n",
              "      fill: #174EA6;\n",
              "    }\n",
              "\n",
              "    [theme=dark] .colab-df-convert {\n",
              "      background-color: #3B4455;\n",
              "      fill: #D2E3FC;\n",
              "    }\n",
              "\n",
              "    [theme=dark] .colab-df-convert:hover {\n",
              "      background-color: #434B5C;\n",
              "      box-shadow: 0px 1px 3px 1px rgba(0, 0, 0, 0.15);\n",
              "      filter: drop-shadow(0px 1px 2px rgba(0, 0, 0, 0.3));\n",
              "      fill: #FFFFFF;\n",
              "    }\n",
              "  </style>\n",
              "\n",
              "      <script>\n",
              "        const buttonEl =\n",
              "          document.querySelector('#df-9f86c719-2e5d-4b7f-86de-2e8b81f77f74 button.colab-df-convert');\n",
              "        buttonEl.style.display =\n",
              "          google.colab.kernel.accessAllowed ? 'block' : 'none';\n",
              "\n",
              "        async function convertToInteractive(key) {\n",
              "          const element = document.querySelector('#df-9f86c719-2e5d-4b7f-86de-2e8b81f77f74');\n",
              "          const dataTable =\n",
              "            await google.colab.kernel.invokeFunction('convertToInteractive',\n",
              "                                                     [key], {});\n",
              "          if (!dataTable) return;\n",
              "\n",
              "          const docLinkHtml = 'Like what you see? Visit the ' +\n",
              "            '<a target=\"_blank\" href=https://colab.research.google.com/notebooks/data_table.ipynb>data table notebook</a>'\n",
              "            + ' to learn more about interactive tables.';\n",
              "          element.innerHTML = '';\n",
              "          dataTable['output_type'] = 'display_data';\n",
              "          await google.colab.output.renderOutput(dataTable, element);\n",
              "          const docLink = document.createElement('div');\n",
              "          docLink.innerHTML = docLinkHtml;\n",
              "          element.appendChild(docLink);\n",
              "        }\n",
              "      </script>\n",
              "    </div>\n",
              "  </div>\n",
              "  "
            ]
          },
          "metadata": {},
          "execution_count": 45
        }
      ]
    },
    {
      "cell_type": "code",
      "source": [
        "naive_bayes = MultinomialNB()\n",
        "naive_bayes.fit(train_data , y_train)"
      ],
      "metadata": {
        "execution": {
          "iopub.status.busy": "2022-05-13T21:28:32.995051Z",
          "iopub.execute_input": "2022-05-13T21:28:32.995386Z",
          "iopub.status.idle": "2022-05-13T21:28:33.005994Z",
          "shell.execute_reply.started": "2022-05-13T21:28:32.995349Z",
          "shell.execute_reply": "2022-05-13T21:28:33.00536Z"
        },
        "trusted": true,
        "id": "-gjwbicG29DX",
        "colab": {
          "base_uri": "https://localhost:8080/"
        },
        "outputId": "06646339-90f3-40f8-dde1-bc8acc183344"
      },
      "execution_count": 46,
      "outputs": [
        {
          "output_type": "execute_result",
          "data": {
            "text/plain": [
              "MultinomialNB()"
            ]
          },
          "metadata": {},
          "execution_count": 46
        }
      ]
    },
    {
      "cell_type": "markdown",
      "source": [
        "Creating a Naive Bayes Classifier."
      ],
      "metadata": {
        "id": "FN_DVO_tU0Zi"
      }
    },
    {
      "cell_type": "code",
      "source": [
        "predection = naive_bayes.predict(testing_data)"
      ],
      "metadata": {
        "execution": {
          "iopub.status.busy": "2022-05-13T21:28:33.838591Z",
          "iopub.execute_input": "2022-05-13T21:28:33.839462Z",
          "iopub.status.idle": "2022-05-13T21:28:33.84512Z",
          "shell.execute_reply.started": "2022-05-13T21:28:33.839411Z",
          "shell.execute_reply": "2022-05-13T21:28:33.844147Z"
        },
        "trusted": true,
        "id": "eI2PMyWD29DY"
      },
      "execution_count": 47,
      "outputs": []
    },
    {
      "cell_type": "markdown",
      "source": [
        "Training the Naive Bayes Classifier with the testing data."
      ],
      "metadata": {
        "id": "pmGgu834U4X_"
      }
    },
    {
      "cell_type": "code",
      "source": [
        "print('Accuracy score: {}'.format(accuracy_score(y_test, predection)))\n",
        "print('precision_score: {}'.format(precision_score(y_test, predection)))\n",
        "print('recall_score: {}'.format(recall_score(y_test, predection)))\n",
        "print('f1_score: {}'.format(f1_score(y_test, predection)))"
      ],
      "metadata": {
        "execution": {
          "iopub.status.busy": "2022-05-13T21:28:34.510482Z",
          "iopub.execute_input": "2022-05-13T21:28:34.510837Z",
          "iopub.status.idle": "2022-05-13T21:28:34.525652Z",
          "shell.execute_reply.started": "2022-05-13T21:28:34.510803Z",
          "shell.execute_reply": "2022-05-13T21:28:34.525016Z"
        },
        "trusted": true,
        "id": "LLROo9wV29DZ",
        "colab": {
          "base_uri": "https://localhost:8080/"
        },
        "outputId": "64e560cc-b8e3-4343-a75f-fa023dd2a947"
      },
      "execution_count": 48,
      "outputs": [
        {
          "output_type": "stream",
          "name": "stdout",
          "text": [
            "Accuracy score: 0.9825992387166939\n",
            "precision_score: 0.9741379310344828\n",
            "recall_score: 0.8968253968253969\n",
            "f1_score: 0.9338842975206612\n"
          ]
        }
      ]
    },
    {
      "cell_type": "markdown",
      "source": [
        "**Random Forest**"
      ],
      "metadata": {
        "id": "V2ALuue9VCB4"
      }
    },
    {
      "cell_type": "code",
      "source": [
        "from sklearn.ensemble import RandomForestClassifier"
      ],
      "metadata": {
        "id": "YHBwvSsdVKXs"
      },
      "execution_count": 49,
      "outputs": []
    },
    {
      "cell_type": "code",
      "source": [
        "rf = RandomForestClassifier()"
      ],
      "metadata": {
        "id": "yxsG1q5aVN3q"
      },
      "execution_count": 50,
      "outputs": []
    },
    {
      "cell_type": "code",
      "source": [
        "rf.fit(train_data, y_train)"
      ],
      "metadata": {
        "colab": {
          "base_uri": "https://localhost:8080/"
        },
        "id": "wATLVuyaVP2H",
        "outputId": "7850ebd0-c48c-4500-cd73-fadfa678ad21"
      },
      "execution_count": 51,
      "outputs": [
        {
          "output_type": "execute_result",
          "data": {
            "text/plain": [
              "RandomForestClassifier()"
            ]
          },
          "metadata": {},
          "execution_count": 51
        }
      ]
    },
    {
      "cell_type": "code",
      "source": [
        "rf_prediction = rf.predict(testing_data)"
      ],
      "metadata": {
        "id": "u2oozRxNVRw7"
      },
      "execution_count": 52,
      "outputs": []
    },
    {
      "cell_type": "code",
      "source": [
        "print('Accuracy score: {}'.format(accuracy_score(y_test, rf_prediction)))\n",
        "print('precision_score: {}'.format(precision_score(y_test, rf_prediction)))\n",
        "print('recall_score: {}'.format(recall_score(y_test, rf_prediction)))\n",
        "print('f1_score: {}'.format(f1_score(y_test, rf_prediction)))"
      ],
      "metadata": {
        "colab": {
          "base_uri": "https://localhost:8080/"
        },
        "id": "TfzNZSwFVUOr",
        "outputId": "43968752-9f97-4d84-9547-443afe1b2981"
      },
      "execution_count": 53,
      "outputs": [
        {
          "output_type": "stream",
          "name": "stdout",
          "text": [
            "Accuracy score: 0.9771615008156607\n",
            "precision_score: 1.0\n",
            "recall_score: 0.8333333333333334\n",
            "f1_score: 0.9090909090909091\n"
          ]
        }
      ]
    },
    {
      "cell_type": "markdown",
      "source": [
        "CART Classifier"
      ],
      "metadata": {
        "id": "DzzXbNIqVZxm"
      }
    },
    {
      "cell_type": "code",
      "source": [
        "from sklearn.tree import DecisionTreeClassifier"
      ],
      "metadata": {
        "id": "ZCtMaconVffK"
      },
      "execution_count": 54,
      "outputs": []
    },
    {
      "cell_type": "code",
      "source": [
        "cart = DecisionTreeClassifier()\n",
        "cart.fit(train_data, y_train)"
      ],
      "metadata": {
        "colab": {
          "base_uri": "https://localhost:8080/"
        },
        "id": "8hTuMZxcVhq0",
        "outputId": "6c254fa4-2b7a-4658-ce27-a615ec9b3490"
      },
      "execution_count": 55,
      "outputs": [
        {
          "output_type": "execute_result",
          "data": {
            "text/plain": [
              "DecisionTreeClassifier()"
            ]
          },
          "metadata": {},
          "execution_count": 55
        }
      ]
    },
    {
      "cell_type": "code",
      "source": [
        "cart_prediction = cart.predict(testing_data)"
      ],
      "metadata": {
        "id": "aFt1netsVjXO"
      },
      "execution_count": 56,
      "outputs": []
    },
    {
      "cell_type": "code",
      "source": [
        "print('Accuracy score: {}'.format(accuracy_score(y_test, cart_prediction)))\n",
        "print('precision_score: {}'.format(precision_score(y_test, cart_prediction)))\n",
        "print('recall_score: {}'.format(recall_score(y_test, cart_prediction)))\n",
        "print('f1_score: {}'.format(f1_score(y_test, cart_prediction)))"
      ],
      "metadata": {
        "colab": {
          "base_uri": "https://localhost:8080/"
        },
        "id": "gkAQFQtVVmPk",
        "outputId": "1710755f-d58f-49ca-d2bf-d36075331db9"
      },
      "execution_count": 57,
      "outputs": [
        {
          "output_type": "stream",
          "name": "stdout",
          "text": [
            "Accuracy score: 0.957041870581838\n",
            "precision_score: 0.8365758754863813\n",
            "recall_score: 0.8531746031746031\n",
            "f1_score: 0.8447937131630648\n"
          ]
        }
      ]
    },
    {
      "cell_type": "markdown",
      "source": [
        "**Conclusion**\n",
        "\n",
        "Implemented three models: Naive Bayes, Decision Tree (CART), and Random Forest for email spam classification.\n",
        "\n",
        "With the highest ratings across all four metrics, it is evident that the Naive Bayes classifier outperforms the other two.\n",
        "\n",
        "As a Multinomial Naive Bayes classifier performs best with discrete features—in this case, the word count we chose to use it."
      ],
      "metadata": {
        "id": "QWmV0VvoVv7Q"
      }
    }
  ]
}