{
  "metadata": {
    "kernelspec": {
      "language": "python",
      "display_name": "Python 3",
      "name": "python3"
    },
    "language_info": {
      "pygments_lexer": "ipython3",
      "nbconvert_exporter": "python",
      "version": "3.6.4",
      "file_extension": ".py",
      "codemirror_mode": {
        "name": "ipython",
        "version": 3
      },
      "name": "python",
      "mimetype": "text/x-python"
    },
    "colab": {
      "provenance": []
    }
  },
  "nbformat_minor": 0,
  "nbformat": 4,
  "cells": [
    {
      "cell_type": "markdown",
      "source": [
        "# Niranjan Badhe\n",
        "#2019120004\n",
        "# BE EXTC"
      ],
      "metadata": {
        "id": "bGL4DN7UzE4k"
      }
    },
    {
      "cell_type": "code",
      "source": [
        "from numpy import asarray\n",
        "from pandas import read_csv\n",
        "from pandas import DataFrame\n",
        "from pandas import concat\n",
        "from sklearn.metrics import mean_absolute_error\n",
        "from sklearn.ensemble import RandomForestRegressor\n",
        "from matplotlib import pyplot"
      ],
      "metadata": {
        "_uuid": "8f2839f25d086af736a60e9eeb907d3b93b6e0e5",
        "_cell_guid": "b1076dfc-b9ad-4769-8c92-a6c4dae69d19",
        "trusted": true,
        "id": "l5U_HPYQyu5d"
      },
      "execution_count": 1,
      "outputs": []
    },
    {
      "cell_type": "markdown",
      "source": [
        "Imported all libraries"
      ],
      "metadata": {
        "id": "qOw8a2aqzERc"
      }
    },
    {
      "cell_type": "code",
      "source": [
        "# transform a time series dataset into a supervised learning dataset\n",
        "def series_to_supervised(data, n_in=1, n_out=1, dropnan=True):\n",
        "    n_vars = 1 if type(data) is list else data.shape[1]\n",
        "    df = DataFrame(data)\n",
        "    cols = list()\n",
        "    # input sequence (t-n, ... t-1)\n",
        "    for i in range(n_in, 0, -1):\n",
        "        cols.append(df.shift(i))\n",
        "    # forecast sequence (t, t+1, ... t+n)\n",
        "    for i in range(0, n_out):\n",
        "        cols.append(df.shift(-i))\n",
        "    # put it all together\n",
        "    agg = concat(cols, axis=1)\n",
        "    # drop rows with NaN values\n",
        "    if dropnan:\n",
        "        agg.dropna(inplace=True)\n",
        "    return agg.values"
      ],
      "metadata": {
        "trusted": true,
        "id": "poxDtbEhyu5h"
      },
      "execution_count": 2,
      "outputs": []
    },
    {
      "cell_type": "markdown",
      "source": [
        "Transform a time series dataset into a supervised learning dataset\n",
        "Drop rows with NaN values"
      ],
      "metadata": {
        "id": "ppOChrw4zt-s"
      }
    },
    {
      "cell_type": "code",
      "source": [
        "# split a univariate dataset into train/test sets\n",
        "def train_test_split(data, n_test):\n",
        "    return data[:-n_test, :], data[-n_test:, :]"
      ],
      "metadata": {
        "trusted": true,
        "id": "dr7Tklhryu5l"
      },
      "execution_count": 3,
      "outputs": []
    },
    {
      "cell_type": "markdown",
      "source": [
        "Split a univariate dataset into train/test sets"
      ],
      "metadata": {
        "id": "wP6pz8mJ0H07"
      }
    },
    {
      "cell_type": "code",
      "source": [
        "def random_forest_forecast(train, testX):\n",
        "    # transform list into array\n",
        "    train = asarray(train)\n",
        "    # split into input and output columns\n",
        "    trainX, trainy = train[:, :-1], train[:, -1]\n",
        "    # fit model\n",
        "    model = RandomForestRegressor(n_estimators=1000)\n",
        "    model.fit(trainX, trainy)\n",
        "    # make a one-step prediction\n",
        "    \n",
        "    yhat = model.predict([testX])\n",
        "    return yhat[0]"
      ],
      "metadata": {
        "trusted": true,
        "id": "bfuqp7GVyu5l"
      },
      "execution_count": 4,
      "outputs": []
    },
    {
      "cell_type": "markdown",
      "source": [
        "\n",
        "Fit an random forest model and make a one step prediction\n",
        "Split into input and output columns"
      ],
      "metadata": {
        "id": "SliiX1-h0mnb"
      }
    },
    {
      "cell_type": "code",
      "source": [
        "# walk-forward validation for univariate data\n",
        "def walk_forward_validation(data, n_test):\n",
        "    predictions = list()\n",
        "    # split dataset\n",
        "    train, test = train_test_split(data, n_test)\n",
        "    # seed history with training dataset\n",
        "    history = [x for x in train]\n",
        "    # step over each time-step in the test set\n",
        "    for i in range(len(test)):\n",
        "        testX, testy = test[i, :-1], test[i, -1]\n",
        "        yhat = random_forest_forecast(history, testX)\n",
        "        predictions.append(yhat)\n",
        "        history.append(test[i])\n",
        "        print('>expected=%.1f, predicted=%.1f' % (testy, yhat))\n",
        "    error = mean_absolute_error(test[:, -1], predictions)\n",
        "    return error, test[:, -1], predictions"
      ],
      "metadata": {
        "trusted": true,
        "id": "LbVEP3YSyu5m"
      },
      "execution_count": 5,
      "outputs": []
    },
    {
      "cell_type": "markdown",
      "source": [
        "Walk-forward validation for univariate data\n",
        "And calculation of error and history array\n"
      ],
      "metadata": {
        "id": "wnppGDw61Uq1"
      }
    },
    {
      "cell_type": "code",
      "source": [
        "# load the dataset\n",
        "series = read_csv('/content/daily-total-female-births.csv', header=0, index_col=0)\n",
        "values = series.values\n",
        "# transform the time series data into supervised learning\n",
        "data = series_to_supervised(values, n_in=6)"
      ],
      "metadata": {
        "trusted": true,
        "id": "Z3ZWKB1pyu5o"
      },
      "execution_count": 6,
      "outputs": []
    },
    {
      "cell_type": "code",
      "source": [
        "# evaluate\n",
        "mae, y, yhat = walk_forward_validation(data, 12)\n",
        "print('MAE: %.3f' % mae)"
      ],
      "metadata": {
        "trusted": true,
        "colab": {
          "base_uri": "https://localhost:8080/"
        },
        "id": "KAu0zhOdyu5o",
        "outputId": "30025ae7-8092-4fd5-b22b-7454dd36f5c9"
      },
      "execution_count": 7,
      "outputs": [
        {
          "output_type": "stream",
          "name": "stdout",
          "text": [
            ">expected=42.0, predicted=45.0\n",
            ">expected=53.0, predicted=43.6\n",
            ">expected=39.0, predicted=41.7\n",
            ">expected=40.0, predicted=38.1\n",
            ">expected=38.0, predicted=43.3\n",
            ">expected=44.0, predicted=48.0\n",
            ">expected=34.0, predicted=42.9\n",
            ">expected=37.0, predicted=36.2\n",
            ">expected=52.0, predicted=38.3\n",
            ">expected=48.0, predicted=41.9\n",
            ">expected=55.0, predicted=43.7\n",
            ">expected=50.0, predicted=45.1\n",
            "MAE: 5.997\n"
          ]
        }
      ]
    },
    {
      "cell_type": "code",
      "source": [
        "# plot expected vs predicted\n",
        "pyplot.plot(y, label='Expected')\n",
        "pyplot.plot(yhat, label='Predicted')\n",
        "pyplot.legend()\n",
        "pyplot.show()"
      ],
      "metadata": {
        "trusted": true,
        "colab": {
          "base_uri": "https://localhost:8080/",
          "height": 265
        },
        "id": "8B3LGhNoyu5p",
        "outputId": "7301aa05-1e3b-40b3-e839-ca0681e82dd7"
      },
      "execution_count": 8,
      "outputs": [
        {
          "output_type": "display_data",
          "data": {
            "text/plain": [
              "<Figure size 432x288 with 1 Axes>"
            ],
            "image/png": "[encoded data removed]"
          },
          "metadata": {
            "needs_background": "light"
          }
        }
      ]
    }
  ]
}