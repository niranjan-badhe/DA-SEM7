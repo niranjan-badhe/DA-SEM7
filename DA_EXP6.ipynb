{
  "metadata": {
    "kernelspec": {
      "language": "python",
      "display_name": "Python 3",
      "name": "python3"
    },
    "language_info": {
      "pygments_lexer": "ipython3",
      "nbconvert_exporter": "python",
      "version": "3.6.4",
      "file_extension": ".py",
      "codemirror_mode": {
        "name": "ipython",
        "version": 3
      },
      "name": "python",
      "mimetype": "text/x-python"
    },
    "colab": {
      "provenance": []
    }
  },
  "nbformat_minor": 0,
  "nbformat": 4,
  "cells": [
    {
      "cell_type": "code",
      "source": [
        "import numpy as np # linear algebra\n",
        "import pandas as pd # data processing, CSV file I/O (e.g. pd.read_csv)\n",
        "import os\n",
        "for dirname, _, filenames in os.walk('/kaggle/input'):\n",
        "    for filename in filenames:\n",
        "        print(os.path.join(dirname, filename))"
      ],
      "metadata": {
        "_uuid": "8f2839f25d086af736a60e9eeb907d3b93b6e0e5",
        "_cell_guid": "b1076dfc-b9ad-4769-8c92-a6c4dae69d19",
        "execution": {
          "iopub.status.busy": "2022-05-13T21:28:26.036875Z",
          "iopub.execute_input": "2022-05-13T21:28:26.037573Z",
          "iopub.status.idle": "2022-05-13T21:28:26.07557Z",
          "shell.execute_reply.started": "2022-05-13T21:28:26.037458Z",
          "shell.execute_reply": "2022-05-13T21:28:26.074638Z"
        },
        "trusted": true,
        "id": "LWPU4RQR29DG"
      },
      "execution_count": null,
      "outputs": []
    },
    {
      "cell_type": "code",
      "source": [
        "# first import library that we need \n",
        "import pandas as pd \n",
        "from sklearn.feature_extraction.text import CountVectorizer\n",
        "from sklearn.model_selection import train_test_split\n",
        "from sklearn.naive_bayes import MultinomialNB  # suitable for discreate feature and Gusian naive bayes for contious\n",
        "from sklearn.metrics import accuracy_score ,f1_score , precision_score , recall_score"
      ],
      "metadata": {
        "execution": {
          "iopub.status.busy": "2022-05-13T21:28:28.448646Z",
          "iopub.execute_input": "2022-05-13T21:28:28.448955Z",
          "iopub.status.idle": "2022-05-13T21:28:29.585369Z",
          "shell.execute_reply.started": "2022-05-13T21:28:28.448923Z",
          "shell.execute_reply": "2022-05-13T21:28:29.584292Z"
        },
        "trusted": true,
        "id": "QGdskenY29DP"
      },
      "execution_count": null,
      "outputs": []
    },
    {
      "cell_type": "code",
      "source": [
        "df = pd.read_csv('/kaggle/input/email-spam-detection-dataset-classification/spam.csv',encoding='ISO-8859-1')\n",
        "df = df.iloc[:,:2]\n",
        "df.rename(columns={'v1':'label', 'v2' : 'sms'},inplace=True)"
      ],
      "metadata": {
        "execution": {
          "iopub.status.busy": "2022-05-13T21:28:29.586773Z",
          "iopub.execute_input": "2022-05-13T21:28:29.586995Z",
          "iopub.status.idle": "2022-05-13T21:28:29.644122Z",
          "shell.execute_reply.started": "2022-05-13T21:28:29.586968Z",
          "shell.execute_reply": "2022-05-13T21:28:29.643267Z"
        },
        "trusted": true,
        "id": "eR1RcC_a29DQ"
      },
      "execution_count": null,
      "outputs": []
    },
    {
      "cell_type": "code",
      "source": [
        "# first convert label col to numeric \n",
        "df['label'] = df.label.map({'ham':0 , 'spam':1})\n",
        "df.head(1)"
      ],
      "metadata": {
        "execution": {
          "iopub.status.busy": "2022-05-13T21:28:29.699437Z",
          "iopub.execute_input": "2022-05-13T21:28:29.699726Z",
          "iopub.status.idle": "2022-05-13T21:28:29.726278Z",
          "shell.execute_reply.started": "2022-05-13T21:28:29.699697Z",
          "shell.execute_reply": "2022-05-13T21:28:29.725274Z"
        },
        "trusted": true,
        "id": "Bf-4kOln29DS"
      },
      "execution_count": null,
      "outputs": []
    },
    {
      "cell_type": "code",
      "source": [
        "# split the data \n",
        "X_train, X_test, y_train, y_test = train_test_split(df['sms'], df['label'], test_size=0.33, random_state=42)\n",
        "print('Size of training data{}',format(X_train.shape[0]))\n",
        "print('Size of Testing data{}',format(X_test.shape[0]))"
      ],
      "metadata": {
        "execution": {
          "iopub.status.busy": "2022-05-13T21:28:29.895761Z",
          "iopub.execute_input": "2022-05-13T21:28:29.896051Z",
          "iopub.status.idle": "2022-05-13T21:28:29.906471Z",
          "shell.execute_reply.started": "2022-05-13T21:28:29.896023Z",
          "shell.execute_reply": "2022-05-13T21:28:29.905601Z"
        },
        "trusted": true,
        "id": "_fXKDs3l29DT"
      },
      "execution_count": null,
      "outputs": []
    },
    {
      "cell_type": "code",
      "source": [
        "# Convert Sms To BOW Count verctor\n",
        "count_vector = CountVectorizer()\n",
        "train_data = count_vector.fit_transform(X_train)\n",
        "testing_data = count_vector.transform(X_test)"
      ],
      "metadata": {
        "execution": {
          "iopub.status.busy": "2022-05-13T21:28:30.116917Z",
          "iopub.execute_input": "2022-05-13T21:28:30.117604Z",
          "iopub.status.idle": "2022-05-13T21:28:30.262798Z",
          "shell.execute_reply.started": "2022-05-13T21:28:30.117562Z",
          "shell.execute_reply": "2022-05-13T21:28:30.261877Z"
        },
        "trusted": true,
        "id": "f1ajdEtm29DU"
      },
      "execution_count": null,
      "outputs": []
    },
    {
      "cell_type": "code",
      "source": [
        "# BOW(Bag Of Word) Look Like This \n",
        "# convert text to numbers for ML \n",
        "count_vector = CountVectorizer()\n",
        "col_name = count_vector.fit(df['sms']).get_feature_names()\n",
        "data = count_vector.transform(list(df['sms'])).toarray()\n",
        "BOW = pd.DataFrame(data, columns= col_name)\n",
        "BOW.head()"
      ],
      "metadata": {
        "execution": {
          "iopub.status.busy": "2022-05-13T21:28:31.367994Z",
          "iopub.execute_input": "2022-05-13T21:28:31.368808Z",
          "iopub.status.idle": "2022-05-13T21:28:31.75Z",
          "shell.execute_reply.started": "2022-05-13T21:28:31.368758Z",
          "shell.execute_reply": "2022-05-13T21:28:31.749325Z"
        },
        "trusted": true,
        "id": "i52x59JH29DV"
      },
      "execution_count": null,
      "outputs": []
    },
    {
      "cell_type": "code",
      "source": [
        "naive_bayes = MultinomialNB()\n",
        "naive_bayes.fit(train_data , y_train)"
      ],
      "metadata": {
        "execution": {
          "iopub.status.busy": "2022-05-13T21:28:32.995051Z",
          "iopub.execute_input": "2022-05-13T21:28:32.995386Z",
          "iopub.status.idle": "2022-05-13T21:28:33.005994Z",
          "shell.execute_reply.started": "2022-05-13T21:28:32.995349Z",
          "shell.execute_reply": "2022-05-13T21:28:33.00536Z"
        },
        "trusted": true,
        "id": "-gjwbicG29DX"
      },
      "execution_count": null,
      "outputs": []
    },
    {
      "cell_type": "code",
      "source": [
        "predection = naive_bayes.predict(testing_data)"
      ],
      "metadata": {
        "execution": {
          "iopub.status.busy": "2022-05-13T21:28:33.838591Z",
          "iopub.execute_input": "2022-05-13T21:28:33.839462Z",
          "iopub.status.idle": "2022-05-13T21:28:33.84512Z",
          "shell.execute_reply.started": "2022-05-13T21:28:33.839411Z",
          "shell.execute_reply": "2022-05-13T21:28:33.844147Z"
        },
        "trusted": true,
        "id": "eI2PMyWD29DY"
      },
      "execution_count": null,
      "outputs": []
    },
    {
      "cell_type": "code",
      "source": [
        "print('Accuracy score: {}'.format(accuracy_score(y_test, predection)))\n",
        "print('precision_score: {}'.format(precision_score(y_test, predection)))\n",
        "print('recall_score: {}'.format(recall_score(y_test, predection)))\n",
        "print('f1_score: {}'.format(f1_score(y_test, predection)))"
      ],
      "metadata": {
        "execution": {
          "iopub.status.busy": "2022-05-13T21:28:34.510482Z",
          "iopub.execute_input": "2022-05-13T21:28:34.510837Z",
          "iopub.status.idle": "2022-05-13T21:28:34.525652Z",
          "shell.execute_reply.started": "2022-05-13T21:28:34.510803Z",
          "shell.execute_reply": "2022-05-13T21:28:34.525016Z"
        },
        "trusted": true,
        "id": "LLROo9wV29DZ"
      },
      "execution_count": null,
      "outputs": []
    }
  ]
}